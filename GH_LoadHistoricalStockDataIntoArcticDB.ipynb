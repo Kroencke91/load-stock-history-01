{
 "cells": [
  {
   "cell_type": "code",
   "execution_count": null,
   "id": "e2aeddff-0765-446c-a789-1e796c5ec72f",
   "metadata": {},
   "outputs": [],
   "source": [
    "#********************************************************************\n",
    "# Install packages\n",
    "#\n",
    "# NOTE: Uncomment and run each cell once as needed then re-comment\n",
    "#********************************************************************"
   ]
  },
  {
   "cell_type": "code",
   "execution_count": null,
   "id": "5a6e2f94-0ab8-40f8-8ea4-b77550ee9500",
   "metadata": {},
   "outputs": [],
   "source": [
    "#!pip install arcticdb --user"
   ]
  },
  {
   "cell_type": "code",
   "execution_count": null,
   "id": "9cac0815-cb2b-4dbc-ad3c-998a15159af4",
   "metadata": {},
   "outputs": [],
   "source": [
    "#!pip install openbb --user "
   ]
  },
  {
   "cell_type": "code",
   "execution_count": null,
   "id": "5897c39c-42dc-4674-be54-194c85476cc3",
   "metadata": {},
   "outputs": [],
   "source": [
    "#********************************************************************\n",
    "# Imports\n",
    "#********************************************************************\n",
    "import pandas as pd\n",
    "from datetime import datetime, timedelta\n",
    "from arcticdb import Arctic, QueryBuilder\n",
    "from openbb import obb"
   ]
  },
  {
   "cell_type": "code",
   "execution_count": null,
   "id": "13e41bb5-3bcc-4f74-8bac-081c9279fd03",
   "metadata": {},
   "outputs": [],
   "source": [
    "#********************************************************************\n",
    "# (Optional) Set Jupyter Notebook display\n",
    "#********************************************************************\n",
    "from IPython.display import display, HTML\n",
    "\n",
    "display(HTML(\"<style>.container { width:100% !important; }</style>\"))\n",
    "\n",
    "pd.set_option('display.max_rows', 500)\n",
    "pd.set_option('display.max_columns', 500)\n",
    "pd.set_option('display.width', 1000)"
   ]
  },
  {
   "cell_type": "code",
   "execution_count": null,
   "id": "1910de6f-0fa6-453f-90c7-5971e278eb09",
   "metadata": {},
   "outputs": [],
   "source": [
    "#********************************************************************\n",
    "# Load OpenBB Personal Access Token (PAT)\n",
    "#\n",
    "# NOTE: You need to have previously created an account on OpenBB Hub\n",
    "#       and generated your Personal Access Token (PAT).\n",
    "#       Get your PAT here: https://my.openbb.co/app/platform/pat\n",
    "#********************************************************************\n",
    "import json\n",
    "\n",
    "with open('GH_OpenBB_Credentials.json') as f:\n",
    "    data = json.load(f)\n",
    "    obb_pat = data['OpenBB_PAT']"
   ]
  },
  {
   "cell_type": "code",
   "execution_count": null,
   "id": "dcbb64fc-c423-428b-943d-0ac10c584d80",
   "metadata": {},
   "outputs": [],
   "source": [
    "#********************************************************************\n",
    "# Create OpenBB connection\n",
    "#********************************************************************\n",
    "obb.account.login(pat=obb_pat)"
   ]
  },
  {
   "cell_type": "code",
   "execution_count": null,
   "id": "052d2347-4885-4be6-a135-c0fffe0dc443",
   "metadata": {},
   "outputs": [],
   "source": [
    "#********************************************************************\n",
    "# Use OpenBB & YFinance to load data for a stock/index symbol into a Pandas dataframe\n",
    "#********************************************************************\n",
    "spx_daily = obb.equity.price.historical(\"^SPX\", start_date=\"1995-01-01\", provider=\"yfinance\").to_df()\n",
    "\n",
    "display(len(spx_daily))\n",
    "\n",
    "spx_daily"
   ]
  },
  {
   "cell_type": "code",
   "execution_count": null,
   "id": "9562f017-18d7-475e-b47a-45b64d3d8c56",
   "metadata": {},
   "outputs": [],
   "source": [
    "#********************************************************************\n",
    "# Establish connection to ArcticDB \n",
    "#\n",
    "# NOTE: The last segment in the path (\"stocks\") is the \"database instance\" name\n",
    "# NOTE: Use LMDB - this is a local file-based database instance\n",
    "#********************************************************************\n",
    "ac = Arctic('lmdb://Databases/stocks?map_size=2GB')"
   ]
  },
  {
   "cell_type": "code",
   "execution_count": null,
   "id": "90c6e383-bab6-475e-94e4-070568af604c",
   "metadata": {},
   "outputs": [],
   "source": [
    "#********************************************************************\n",
    "# Establish an ArcticDB library connection\n",
    "#\n",
    "# NOTE: Think of the library as a \"database\" (\"history\") in the \"database instance\" (\"stocks\")\n",
    "#********************************************************************\n",
    "lib = ac.get_library('history', create_if_missing=True)"
   ]
  },
  {
   "cell_type": "code",
   "execution_count": null,
   "id": "8ff06db4-e086-4738-8a84-c0353378e1d5",
   "metadata": {},
   "outputs": [],
   "source": [
    "#********************************************************************\n",
    "# Save the data to an ArcticDB symbol\n",
    "#\n",
    "# NOTE: In ArcticDB, think of a symbol as a \"table\"\n",
    "#********************************************************************\n",
    "table_name = \"spx_daily\"\n",
    "\n",
    "# NOTE: Re-running will overwrite all existing data in table_name symbol\n",
    "write_records = lib.write(table_name, spx_daily)"
   ]
  },
  {
   "cell_type": "code",
   "execution_count": null,
   "id": "8e717921-f668-4da1-9837-41e62f93a38a",
   "metadata": {},
   "outputs": [],
   "source": [
    "#********************************************************************\n",
    "# Clear out the dataframe to allow demonstration of loading from ArcticDB\n",
    "#********************************************************************\n",
    "spx_daily = None"
   ]
  },
  {
   "cell_type": "code",
   "execution_count": null,
   "id": "7b88ebca-5e90-4bd4-a443-21f708f1df68",
   "metadata": {},
   "outputs": [],
   "source": [
    "#********************************************************************\n",
    "# Read the saved data from ArcticDB\n",
    "#********************************************************************\n",
    "read_records = lib.read(table_name) # arcticdb.version_store._store.VersionedItem\n",
    "\n",
    "display(len(read_records.data))"
   ]
  },
  {
   "cell_type": "code",
   "execution_count": null,
   "id": "e75acd4a-a977-47c8-b76f-9531cbe13e84",
   "metadata": {},
   "outputs": [],
   "source": [
    "#********************************************************************\n",
    "# Assign dataframe variable to dataframe read in from ArcticDB\n",
    "#********************************************************************\n",
    "spx_daily = read_records.data\n",
    "\n",
    "display(len(spx_daily))\n",
    "\n",
    "spx_daily"
   ]
  },
  {
   "cell_type": "code",
   "execution_count": null,
   "id": "f3f4fe50-6633-42e0-92b1-604c04a31b47",
   "metadata": {},
   "outputs": [],
   "source": [
    "#********************************************************************\n",
    "# You can query the data with with the familiarity of Pandas and the efficiency of C++\n",
    "#\n",
    "# NOTE: For more information please check out our QueryBuilder docs: \n",
    "#       https://docs.arcticdb.io/latest/api/query_builder/\n",
    "#********************************************************************\n",
    "q = QueryBuilder()\n",
    "\n",
    "q = q[(q[\"close\"] > 4500) & (q[\"close\"] < 4550)]\n",
    "\n",
    "filtered = lib.read(table_name, query_builder=q).data\n",
    "\n",
    "filtered.head(5)"
   ]
  },
  {
   "cell_type": "code",
   "execution_count": null,
   "id": "affbf1f1-2ceb-4064-918f-f0bd00a5986c",
   "metadata": {},
   "outputs": [],
   "source": [
    "#********************************************************************\n",
    "# You can select out rows and columns efficiently...necessary when the data doesn't fit into ram\n",
    "#********************************************************************\n",
    "subframe = lib.read(\n",
    "    table_name,\n",
    "    columns=[\"close\", \"volume\"],\n",
    "    date_range=(datetime(2023, 1, 4, 0), datetime(2023, 1, 6, 0))\n",
    ").data\n",
    "\n",
    "subframe.head(5)"
   ]
  }
 ],
 "metadata": {
  "kernelspec": {
   "display_name": "pyquant_lab01",
   "language": "python",
   "name": "pyquant_lab01"
  },
  "language_info": {
   "codemirror_mode": {
    "name": "ipython",
    "version": 3
   },
   "file_extension": ".py",
   "mimetype": "text/x-python",
   "name": "python",
   "nbconvert_exporter": "python",
   "pygments_lexer": "ipython3",
   "version": "3.9.18"
  }
 },
 "nbformat": 4,
 "nbformat_minor": 5
}
